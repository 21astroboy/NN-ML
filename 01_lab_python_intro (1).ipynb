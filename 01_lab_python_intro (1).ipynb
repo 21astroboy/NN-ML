{
  "cells": [
    {
      "cell_type": "markdown",
      "id": "596b4987",
      "metadata": {
        "id": "596b4987"
      },
      "source": [
        "# Лабораторная работа №1\n",
        "\n",
        "ФИО:   Коншин Кирилл Павлович\n",
        "\n",
        "Группа: БИВТ-211\n",
        "\n",
        "\n",
        "Отправлять можно следующими способами:\n",
        "1. Создать **приватный** репозиторий на github, добавить меня по нику (l3lush) в Collaborators (Settings -> Collaborators -> Add people)\n",
        "\n",
        "Deadlines:\n",
        "- Занятие №5 в семестре (Занятие №1 очное)\n",
        "\n",
        "Что необходимо сделать:\n",
        "1. Заполнить все ячейки ниже кодом так, чтобы прошли все `assert`ы."
      ]
    },
    {
      "cell_type": "markdown",
      "id": "2213731a",
      "metadata": {
        "id": "2213731a"
      },
      "source": [
        "# 0. Пример работы assert"
      ]
    },
    {
      "cell_type": "markdown",
      "id": "0dcee059",
      "metadata": {
        "id": "0dcee059"
      },
      "source": [
        "`assert` предназначен для проверки каких-либо условий.  \n",
        "Если условие истинно (возвращается `True`), код выполняется без ошибок, в противном случае выходит `AssertionError`.  <br />\n",
        "Ниже пример работы `assert`ов (в ячейке с примером `assert a > 6` можно оставить ошибку, но нигде далее в коде ошибок быть **не должно**)    <br />\n",
        "P.S. `assert`ы менять никак **нельзя**"
      ]
    },
    {
      "cell_type": "code",
      "execution_count": null,
      "id": "31be897b",
      "metadata": {
        "id": "31be897b"
      },
      "outputs": [],
      "source": [
        "a = 5\n",
        "assert a == 5  # assert проходит, т.к. a равно 0"
      ]
    },
    {
      "cell_type": "code",
      "execution_count": null,
      "id": "139c9ca8",
      "metadata": {
        "id": "139c9ca8",
        "outputId": "af2da56c-e8c3-48b5-8a54-955abea4debf"
      },
      "outputs": [
        {
          "ename": "AssertionError",
          "evalue": "",
          "output_type": "error",
          "traceback": [
            "\u001b[1;31m---------------------------------------------------------------------------\u001b[0m",
            "\u001b[1;31mAssertionError\u001b[0m                            Traceback (most recent call last)",
            "\u001b[1;32m~\\AppData\\Local\\Temp\\ipykernel_23792\\1589179466.py\u001b[0m in \u001b[0;36m<module>\u001b[1;34m\u001b[0m\n\u001b[1;32m----> 1\u001b[1;33m \u001b[1;32massert\u001b[0m \u001b[0ma\u001b[0m \u001b[1;33m>\u001b[0m \u001b[1;36m6\u001b[0m  \u001b[1;31m# assert не проходит, т.к. а не больше 6, выпадает ошибка\u001b[0m\u001b[1;33m\u001b[0m\u001b[1;33m\u001b[0m\u001b[0m\n\u001b[0m",
            "\u001b[1;31mAssertionError\u001b[0m: "
          ]
        }
      ],
      "source": [
        "assert a > 6  # assert не проходит, т.к. а не больше 6, выпадает ошибка"
      ]
    },
    {
      "cell_type": "markdown",
      "id": "a72f14da",
      "metadata": {
        "id": "a72f14da"
      },
      "source": [
        "# 1. Базовые типы переменных"
      ]
    },
    {
      "cell_type": "markdown",
      "id": "ccfb5acf",
      "metadata": {
        "id": "ccfb5acf"
      },
      "source": [
        "Создайте переменные так, чтобы они были объектами определенного типа (типы приведены в комментариях)."
      ]
    },
    {
      "cell_type": "code",
      "execution_count": null,
      "id": "db46e8d6",
      "metadata": {
        "id": "db46e8d6"
      },
      "outputs": [],
      "source": [
        "int_variable = 5  # int\n",
        "assert isinstance(int_variable, int)\n",
        "\n",
        "float_variable = 5.0  # float\n",
        "assert isinstance(float_variable, float)\n",
        "\n",
        "string_variable = '5'  # string\n",
        "assert isinstance(string_variable, str)\n",
        "\n",
        "bool_variable = True  # bool\n",
        "assert isinstance(bool_variable, bool)"
      ]
    },
    {
      "cell_type": "code",
      "execution_count": null,
      "id": "ed1861a0",
      "metadata": {
        "id": "ed1861a0"
      },
      "outputs": [],
      "source": [
        "list_variable = [5,2,3]  # list\n",
        "assert isinstance(list_variable, list)\n",
        "\n",
        "tuple_variable = (5,4,3)  # tuple\n",
        "assert isinstance(tuple_variable, tuple)\n",
        "\n",
        "set_variable = {5,3,2}  # set\n",
        "assert isinstance(set_variable, set)\n",
        "\n",
        "dict_variable = {3:'a',5:'b'}  # dict\n",
        "assert isinstance(dict_variable, dict)"
      ]
    },
    {
      "cell_type": "markdown",
      "id": "00ec06c0",
      "metadata": {
        "id": "00ec06c0"
      },
      "source": [
        "<br>"
      ]
    },
    {
      "cell_type": "markdown",
      "id": "52830470",
      "metadata": {
        "id": "52830470"
      },
      "source": [
        "# 2.1 Различные функции"
      ]
    },
    {
      "cell_type": "code",
      "execution_count": null,
      "id": "3eb16cbe",
      "metadata": {
        "id": "3eb16cbe"
      },
      "outputs": [],
      "source": [
        "def difference_of_two_numbers(first, second):\n",
        "    return first -second\n",
        "\n",
        "\n",
        "assert difference_of_two_numbers(2, 1) == 1\n",
        "assert difference_of_two_numbers(4, 1) == 3\n",
        "assert difference_of_two_numbers(10, 0) == 10\n",
        "assert difference_of_two_numbers(-5, -6) == 1"
      ]
    },
    {
      "cell_type": "code",
      "execution_count": null,
      "id": "65ff4881",
      "metadata": {
        "id": "65ff4881"
      },
      "outputs": [],
      "source": [
        "def condition_function(input_number):\n",
        "    if(input_number <= 0):\n",
        "      return input_number*2\n",
        "    elif(input_number <= 10 and input_number > 0 ):\n",
        "      return input_number*3\n",
        "    else:\n",
        "      return input_number/10\n",
        "    \"\"\"\n",
        "    Если входное число меньше либо равно 0, то умножить его на 2.\n",
        "    В противном случае, если число больше 0, но меньше или равно 10, умножить на 3.\n",
        "    Во всех прочих случаях поделить на 10.\n",
        "    \"\"\"\n",
        "\n",
        "\n",
        "\n",
        "assert condition_function(0) == 0\n",
        "assert condition_function(-1) == -2\n",
        "assert condition_function(1) == 3\n",
        "assert condition_function(10) == 30\n",
        "assert condition_function(11) == 1.1\n",
        "assert condition_function(20) == 2"
      ]
    },
    {
      "cell_type": "code",
      "execution_count": null,
      "id": "51264059",
      "metadata": {
        "id": "51264059"
      },
      "outputs": [],
      "source": [
        "def calculator(number_1, operation, number_2):\n",
        "    \"\"\"\n",
        "    Простой оператор, способный выполнять операции +, -, *, /.\n",
        "    На входе первое число, операция в виде строки и второе число.\n",
        "\n",
        "    Пример:\n",
        "    >>> calculator(1, \"+\", 1)\n",
        "    >>> 2\n",
        "    \"\"\"\n",
        "    if operation == \"+\":\n",
        "        return number_1 + number_2\n",
        "    elif operation == \"-\":\n",
        "        return number_1 - number_2\n",
        "    elif operation == \"*\":\n",
        "        return number_1 * number_2\n",
        "    elif operation == \"/\":\n",
        "        if number_2 != 0:\n",
        "            return number_1 / number_2\n",
        "        else:\n",
        "            return \"Деление на ноль\"\n",
        "\n",
        "\n",
        "assert calculator(1, \"+\", 2) == 3\n",
        "assert calculator(3, \"-\", 1) == 2\n",
        "assert calculator(4, \"*\", 3) == 12\n",
        "assert calculator(2, \"/\", 2) == 1"
      ]
    },
    {
      "cell_type": "code",
      "execution_count": null,
      "id": "02255ff4",
      "metadata": {
        "id": "02255ff4"
      },
      "outputs": [],
      "source": [
        "def number_of_unique_elements(input_list):\n",
        "    \"\"\"\n",
        "    Считает количество уникальных элементов в листе.\n",
        "    \"\"\"\n",
        "    return len(set(input_list))\n",
        "\n",
        "\n",
        "assert number_of_unique_elements([1, 2, 3]) == 3\n",
        "assert number_of_unique_elements([1] * 93) == 1\n",
        "assert number_of_unique_elements(list(range(1000))) == 1000"
      ]
    },
    {
      "cell_type": "code",
      "execution_count": null,
      "id": "2a2a2363",
      "metadata": {
        "id": "2a2a2363"
      },
      "outputs": [],
      "source": [
        "def counter(input_list):\n",
        "    \"\"\"\n",
        "    Считает количество вхождений каждого из элементов листа.\n",
        "    Возвращает словарь вида {число: количество вхождений}\n",
        "\n",
        "    Замечание (!): встроенным в collections Counter'ом пользоваться нельзя\n",
        "\n",
        "    Например:\n",
        "    counter([1, 1, 2, 3]) вернет {1: 2, 2: 1, 3: 1}\n",
        "    \"\"\"\n",
        "    num = set(input_list)\n",
        "    occ = {}\n",
        "    for i in num:\n",
        "      if i not in occ:\n",
        "        occ[i] = input_list.count(i)\n",
        "    return occ\n",
        "\n",
        "\n",
        "assert counter([1, 1, 1, 2, 3]) == {1: 3, 2: 1, 3: 1}\n",
        "assert counter([1] * 1000) == {1: 1000}\n",
        "assert counter([1, 3, 5] * 100) == {1: 100, 3: 100, 5: 100}"
      ]
    },
    {
      "cell_type": "code",
      "execution_count": null,
      "id": "c1498018",
      "metadata": {
        "id": "c1498018"
      },
      "outputs": [],
      "source": [
        "def multiply_nums(input_string):\n",
        "    \"\"\"\n",
        "    Перемножить числа, переданные в строке, перечисленные через запятую.\n",
        "\n",
        "    hint: можно использовать метод .split()\n",
        "    \"\"\"\n",
        "    numbers = input_string.split(\", \")\n",
        "    numbers = map(int,numbers)\n",
        "    result = 1\n",
        "\n",
        "    for num in numbers:\n",
        "        result *= num\n",
        "\n",
        "    return result\n",
        "\n",
        "\n",
        "assert multiply_nums(\"2, 3\") == 6\n",
        "assert multiply_nums(\"1, 1, 1, 1, 1, 1, 1\") == 1\n",
        "assert multiply_nums(\"345, 4576, 794, 325, 0\") == 0"
      ]
    },
    {
      "cell_type": "markdown",
      "id": "202c838a",
      "metadata": {
        "id": "202c838a"
      },
      "source": [
        "Реализуйте следующую функцию:\n",
        "$$\n",
        "y = sin(x)\\cdot cos(x)\n",
        "$$\n",
        "P.S. используйте библиотеку `math`"
      ]
    },
    {
      "cell_type": "code",
      "execution_count": null,
      "id": "4121596c",
      "metadata": {
        "id": "4121596c"
      },
      "outputs": [],
      "source": [
        "import math\n",
        "def custom_function(x):\n",
        "    \"\"\"\n",
        "    Реализуйте функцию, описанную выше.\n",
        "    \"\"\"\n",
        "    return math.cos(x)* math.sin(x)\n",
        "\n",
        "assert round(custom_function(1), 3) == 0.455\n",
        "assert round(custom_function(1.5), 3) == 0.071\n",
        "assert round(custom_function(2), 3) == -0.378\n",
        "assert custom_function(0) == 0"
      ]
    },
    {
      "cell_type": "markdown",
      "id": "7a2210d6",
      "metadata": {
        "id": "7a2210d6"
      },
      "source": [
        "Реализуйте следующую функцию:\n",
        "$$\n",
        "y = \\prod\\limits_{n = 1}^n \\frac{(n+2)^x + ln(x)}{x^2 + 4n}\n",
        "$$\n",
        "P.S. используйте библиотеку `math`"
      ]
    },
    {
      "cell_type": "code",
      "execution_count": null,
      "id": "b4698ba6",
      "metadata": {
        "colab": {
          "base_uri": "https://localhost:8080/",
          "height": 211
        },
        "id": "b4698ba6",
        "outputId": "acf13048-7a9b-4a8d-cbed-2d912608218f"
      },
      "outputs": [
        {
          "output_type": "error",
          "ename": "AssertionError",
          "evalue": "",
          "traceback": [
            "\u001b[0;31m---------------------------------------------------------------------------\u001b[0m",
            "\u001b[0;31mAssertionError\u001b[0m                            Traceback (most recent call last)",
            "\u001b[0;32m<ipython-input-18-dd4735766138>\u001b[0m in \u001b[0;36m<cell line: 11>\u001b[0;34m()\u001b[0m\n\u001b[1;32m      9\u001b[0m \u001b[0;34m\u001b[0m\u001b[0m\n\u001b[1;32m     10\u001b[0m \u001b[0;34m\u001b[0m\u001b[0m\n\u001b[0;32m---> 11\u001b[0;31m \u001b[0;32massert\u001b[0m \u001b[0mround\u001b[0m\u001b[0;34m(\u001b[0m\u001b[0mcustom_function_1\u001b[0m\u001b[0;34m(\u001b[0m\u001b[0;36m2\u001b[0m\u001b[0;34m,\u001b[0m \u001b[0;36m3\u001b[0m\u001b[0;34m)\u001b[0m\u001b[0;34m,\u001b[0m \u001b[0;36m3\u001b[0m\u001b[0;34m)\u001b[0m \u001b[0;34m==\u001b[0m \u001b[0;36m2.707\u001b[0m\u001b[0;34m\u001b[0m\u001b[0;34m\u001b[0m\u001b[0m\n\u001b[0m\u001b[1;32m     12\u001b[0m \u001b[0;32massert\u001b[0m \u001b[0mround\u001b[0m\u001b[0;34m(\u001b[0m\u001b[0mcustom_function_1\u001b[0m\u001b[0;34m(\u001b[0m\u001b[0;36m3\u001b[0m\u001b[0;34m,\u001b[0m \u001b[0;36m2\u001b[0m\u001b[0;34m)\u001b[0m\u001b[0;34m,\u001b[0m \u001b[0;36m3\u001b[0m\u001b[0;34m)\u001b[0m \u001b[0;34m==\u001b[0m \u001b[0;36m8.277\u001b[0m\u001b[0;34m\u001b[0m\u001b[0;34m\u001b[0m\u001b[0m\n\u001b[1;32m     13\u001b[0m \u001b[0;32massert\u001b[0m \u001b[0mround\u001b[0m\u001b[0;34m(\u001b[0m\u001b[0mcustom_function_1\u001b[0m\u001b[0;34m(\u001b[0m\u001b[0;36m3\u001b[0m\u001b[0;34m,\u001b[0m \u001b[0;36m3\u001b[0m\u001b[0;34m)\u001b[0m\u001b[0;34m,\u001b[0m \u001b[0;36m3\u001b[0m\u001b[0;34m)\u001b[0m \u001b[0;34m==\u001b[0m \u001b[0;36m49.7\u001b[0m\u001b[0;34m\u001b[0m\u001b[0;34m\u001b[0m\u001b[0m\n",
            "\u001b[0;31mAssertionError\u001b[0m: "
          ]
        }
      ],
      "source": [
        "def custom_function_1(x, n):\n",
        "    \"\"\"\n",
        "    Реализуйте функцию, описанную выше.\n",
        "    \"\"\"\n",
        "    result = 1\n",
        "    for i in range(1,n+1):\n",
        "      result *= ((i+2)**x+math.log2(x))/(x**2 + 4*i)\n",
        "    return result\n",
        "\n",
        "\n",
        "assert round(custom_function_1(2, 3), 3) == 2.707\n",
        "assert round(custom_function_1(3, 2), 3) == 8.277\n",
        "assert round(custom_function_1(3, 3), 3) == 49.7"
      ]
    },
    {
      "cell_type": "code",
      "source": [
        "round(custom_function_1(2, 3),3)"
      ],
      "metadata": {
        "colab": {
          "base_uri": "https://localhost:8080/"
        },
        "id": "9OHf_4XIL30x",
        "outputId": "564fe504-845b-4823-b8eb-c4d2c3ff8418"
      },
      "id": "9OHf_4XIL30x",
      "execution_count": null,
      "outputs": [
        {
          "output_type": "execute_result",
          "data": {
            "text/plain": [
              "2.878"
            ]
          },
          "metadata": {},
          "execution_count": 20
        }
      ]
    },
    {
      "cell_type": "markdown",
      "id": "79409870",
      "metadata": {
        "id": "79409870"
      },
      "source": [
        "# 2.2 Задачки на написание функций"
      ]
    },
    {
      "cell_type": "markdown",
      "id": "b1b313b9",
      "metadata": {
        "id": "b1b313b9"
      },
      "source": [
        "1. Дано число n. С начала суток прошло n минут. Определите, сколько часов и минут будут показывать электронные часы в этот момент. Программа должна вывести два числа: количество часов (от 0 до 23) и количество минут (от 0 до 59). Учтите, что число n может быть больше, чем количество минут в сутках."
      ]
    },
    {
      "cell_type": "code",
      "execution_count": null,
      "id": "42562c52",
      "metadata": {
        "id": "42562c52"
      },
      "outputs": [],
      "source": [
        "# Ваша задача здесь написать функцию time_converter (именно такое название)\n",
        "# она должна возвращать значения в виде строки 'hours minutes'\n",
        "def time_converter(n):\n",
        "    day = 60*24\n",
        "    while(n>day):\n",
        "      n = n- day\n",
        "    hours = (n // 60) % 24\n",
        "    minutes = n % 60\n",
        "    return str(hours) + ' ' + str(minutes)\n",
        "\n",
        "assert time_converter(2782) == '22 22'\n",
        "assert time_converter(4733) == '6 53'\n",
        "assert time_converter(1766) == '5 26'\n",
        "assert time_converter(3865) == '16 25'\n",
        "assert time_converter(4628) == '5 8'\n",
        "assert time_converter(4353) == '0 33'\n",
        "assert time_converter(268) == '4 28'\n",
        "assert time_converter(4373) == '0 53'\n",
        "assert time_converter(2722) == '21 22'\n",
        "assert time_converter(1531) == '1 31'"
      ]
    },
    {
      "cell_type": "markdown",
      "id": "824cbdcc",
      "metadata": {
        "id": "824cbdcc"
      },
      "source": [
        "---\n",
        "2. Написать функцию, которая выводит минимум из трех чисел. Использовать `min` нельзя. Только `if`."
      ]
    },
    {
      "cell_type": "code",
      "execution_count": null,
      "id": "23a5e2ef",
      "metadata": {
        "id": "23a5e2ef"
      },
      "outputs": [],
      "source": [
        "# Написать функцию min_of_three_values, принимает на вход 3 аргумента\n",
        "def min_of_three_values(first, sec, third):\n",
        "  l = [first,sec,third]\n",
        "  min = first\n",
        "  for i in l:\n",
        "    if i < min:\n",
        "      min = i\n",
        "  return min\n",
        "\n",
        "\n",
        "assert min_of_three_values(1, 2, 3) == 1\n",
        "assert min_of_three_values(1, 1, 9) == 1\n",
        "assert min_of_three_values(18, 7, 11) == 7\n",
        "assert min_of_three_values(2, 10, 10) == 2\n",
        "assert min_of_three_values(17, 14, 17) == 14\n",
        "assert min_of_three_values(9, 2, 10) == 2\n",
        "assert min_of_three_values(7, 4, 7) == 4\n",
        "assert min_of_three_values(0, 8, 3) == 0\n",
        "assert min_of_three_values(8, 10, 6) == 6\n",
        "assert min_of_three_values(1, 4, 8) == 1"
      ]
    },
    {
      "cell_type": "markdown",
      "id": "414dc710",
      "metadata": {
        "id": "414dc710"
      },
      "source": [
        "---\n",
        "3. Удаление символа из строки. Необходимо использовать встроенный метод `.replace()`"
      ]
    },
    {
      "cell_type": "code",
      "execution_count": null,
      "id": "3a131bb4",
      "metadata": {
        "id": "3a131bb4"
      },
      "outputs": [],
      "source": [
        "# Функция remove_symbol принимает два аргумента -- строку и символ, которые необходимо удалить\n",
        "def remove_symbol(str1,str2):\n",
        "  return str1.replace(str2,'')\n",
        "\n",
        "\n",
        "assert remove_symbol('aaaaaaaa', 'a') == ''\n",
        "assert remove_symbol('abababa', 'b') == 'aaaa'\n",
        "assert remove_symbol('12341234', '3') == '124124'"
      ]
    },
    {
      "cell_type": "markdown",
      "id": "b6881076",
      "metadata": {
        "id": "b6881076"
      },
      "source": [
        "---\n",
        "4. Удаление каждого 3 символа из строки"
      ]
    },
    {
      "cell_type": "code",
      "execution_count": null,
      "id": "52279032",
      "metadata": {
        "id": "52279032"
      },
      "outputs": [],
      "source": [
        "# Функция remove_each_third_sym принимает один агрумент -- строку.\n",
        "# важно -- мы считаем человеческие индексы (начиная с 1, а не 0)\n",
        "# важно -- оставляем первый аргумент\n",
        "# Необходимо вернуть новую строку\n",
        "def remove_each_third_sym(str1):\n",
        "  result = ''\n",
        "  for i in range(len(str1)):\n",
        "    if((i+1)%3 == 0):\n",
        "      continue\n",
        "    else:\n",
        "      result+=str1[i]\n",
        "  return result\n",
        "\n",
        "\n",
        "assert remove_each_third_sym('abcdef') == 'abde'\n",
        "assert remove_each_third_sym('sdfasdfasdfsfa') == 'sdasfadffa'\n",
        "assert remove_each_third_sym('123456789') == '124578'\n",
        "assert remove_each_third_sym('987654321') == '986532'"
      ]
    },
    {
      "cell_type": "markdown",
      "id": "7c72f3ac",
      "metadata": {
        "id": "7c72f3ac"
      },
      "source": [
        "---\n",
        "5. Вывести максимальный элемент и его индекс в листе"
      ]
    },
    {
      "cell_type": "code",
      "execution_count": null,
      "id": "789f7d5c",
      "metadata": {
        "id": "789f7d5c"
      },
      "outputs": [],
      "source": [
        "# Функция find_max принимает на вход лист\n",
        "# на выходе два числа -- непосредственно максимальное значение и его индекс\n",
        "# def find_max(array):\n",
        "#   max = array[0]\n",
        "#   index = 0\n",
        "#   for i in range(len(array)):\n",
        "#     if array[i]>max:\n",
        "#       max = array[i]\n",
        "#       index = i\n",
        "\n",
        "#   return (max,index)\n",
        "\n",
        "def find_max(array):\n",
        "  return (max(array),array.index(max(array)))\n",
        "\n",
        "assert find_max([1, 2, 3, 4, 5]) == (5, 4)\n",
        "assert find_max([5, 4, 3, 2, 1]) == (5, 0)\n",
        "assert find_max([96, 82, 72, 48, 93, 88, 79]) == (96, 0)\n",
        "assert find_max([49, 75, 65, 65, 65, 18]) == (75, 1)\n",
        "assert find_max([69, 16, 64, 54, 36, 70, 89, 29]) == (89, 6)\n",
        "assert find_max([17, 80, 27, 36, 21, 85, 63, 27]) == (85, 5)\n",
        "assert find_max([76, 27, 73, 65, 52]) == (76, 0)\n",
        "assert find_max([33, 26, 69, 40, 93]) == (93, 4)\n",
        "assert find_max([87, 5, 95, 52, 21, 76, 22]) == (95, 2)\n",
        "assert find_max([75, 18, 89, 99, 70]) == (99, 3)"
      ]
    },
    {
      "cell_type": "markdown",
      "id": "a8cccf57",
      "metadata": {
        "id": "a8cccf57"
      },
      "source": [
        "---\n",
        "6. Вставить элемент в конец листа. Использовать метод `append` можно и нужно"
      ]
    },
    {
      "cell_type": "code",
      "execution_count": null,
      "id": "2c127a30",
      "metadata": {
        "id": "2c127a30"
      },
      "outputs": [],
      "source": [
        "# функция append_to_list принимает два значения -- лист и значение, которое необходимо вставить в конец листа\n",
        "# функция возвращает обновленный лист\n",
        "\n",
        "def append_to_list(array, el):\n",
        "  array.append(el)\n",
        "  return array\n",
        "\n",
        "\n",
        "\n",
        "assert append_to_list([1, 2], 3) == [1, 2, 3]\n",
        "assert append_to_list([1, 2], None) == [1, 2, None]\n",
        "assert append_to_list([1, 's'], True) == [1, 's', True]"
      ]
    },
    {
      "cell_type": "markdown",
      "id": "92d53320",
      "metadata": {
        "id": "92d53320"
      },
      "source": [
        "---\n",
        "7. Количество уникальных чисел в листе. Нужно использовать множества (`set`)"
      ]
    },
    {
      "cell_type": "code",
      "execution_count": null,
      "id": "e0d01126",
      "metadata": {
        "id": "e0d01126"
      },
      "outputs": [],
      "source": [
        "# функция number_unique_elements принимает на вход лист\n",
        "# на выходе одно число -- количество уникальных элементов\n",
        "def number_unique_elements(array):\n",
        "  return len(set(array))\n",
        "\n",
        "assert number_unique_elements([1, 2, 3]) == 3\n",
        "assert number_unique_elements([1, 2, 1]) == 2\n",
        "assert number_unique_elements([1, 1, 1, 1]) == 1\n",
        "assert number_unique_elements([1, 2, 1, 2]) == 2"
      ]
    },
    {
      "cell_type": "markdown",
      "id": "8c708395",
      "metadata": {
        "id": "8c708395"
      },
      "source": [
        "# 3. Классы"
      ]
    },
    {
      "cell_type": "markdown",
      "id": "1a11fb20",
      "metadata": {
        "id": "1a11fb20"
      },
      "source": [
        "Напишите класс Vehicle с двумя атрибутами -- максимальная скорость (max_speed) и пробег (mileage)  \n",
        "Необходимо реализовать только метод-конструктор `__init__`"
      ]
    },
    {
      "cell_type": "code",
      "execution_count": null,
      "id": "5fc4379c",
      "metadata": {
        "id": "5fc4379c"
      },
      "outputs": [],
      "source": [
        "class Vehicle:\n",
        "    def __init__(self,max_speed,mileage):\n",
        "      self.max_speed = max_speed\n",
        "      self.mileage = mileage\n",
        "\n",
        "\n",
        "\n",
        "\n",
        "veh1 = Vehicle(100, 50)\n",
        "assert (veh1.max_speed, veh1.mileage) == (100, 50)\n",
        "\n",
        "veh2 = Vehicle(200, 3)\n",
        "assert (veh2.max_speed, veh2.mileage) == (200, 3)"
      ]
    },
    {
      "cell_type": "markdown",
      "id": "ea4551bf",
      "metadata": {
        "id": "ea4551bf"
      },
      "source": [
        "Напишите класс Truck, который наследуется от Vehicle  \n",
        "P.S. Наследование возможно при помощи конструкции class Subclass(MotherClass):"
      ]
    },
    {
      "cell_type": "code",
      "execution_count": null,
      "id": "2ea8d59d",
      "metadata": {
        "id": "2ea8d59d"
      },
      "outputs": [],
      "source": [
        "class Truck(Vehicle):\n",
        "    def __init__(self, max_speed, mileage):\n",
        "        super().__init__(max_speed, mileage)\n",
        "\n",
        "\n",
        "\n",
        "truck1 = Truck(50, 1000)\n",
        "assert (truck1.max_speed, truck1.mileage) == (50, 1000)\n",
        "\n",
        "truck2 = Truck(43, 235)\n",
        "assert (truck2.max_speed, truck2.mileage) == (43, 235)"
      ]
    },
    {
      "cell_type": "markdown",
      "id": "5f93b111",
      "metadata": {
        "id": "5f93b111"
      },
      "source": [
        "Напишите класс MyList с функционалом, как описано ниже"
      ]
    },
    {
      "cell_type": "code",
      "execution_count": null,
      "id": "b9a4db60",
      "metadata": {
        "id": "b9a4db60"
      },
      "outputs": [],
      "source": [
        "class MyList:\n",
        "    def __init__(self,array):\n",
        "        # TODO: напиши меня\n",
        "        self.array = array\n",
        "\n",
        "\n",
        "    def return_sum(self):\n",
        "        \"\"\"\n",
        "        Возвращает сумму всех элементов сохраненного листа.\n",
        "        Пользоваться sum нельзя!\n",
        "        \"\"\"\n",
        "        result = 0\n",
        "        for i in self.array:\n",
        "          result+=i\n",
        "        return result\n",
        "\n",
        "    def make_reverse(self):\n",
        "        \"\"\"\n",
        "        Разворачивает сохраненный лист.\n",
        "        \"\"\"\n",
        "        # result = []\n",
        "        # for i in range(len(self.array) - 1, -1, -1):\n",
        "        #   result.append(self.array[i])\n",
        "        # return result\n",
        "        result = list(reversed(self.array))\n",
        "        return result\n",
        "\n",
        "    def make_slice(self, start, stop):\n",
        "        \"\"\"\n",
        "        Делает слайсинг сохраненного листа.\n",
        "        \"\"\"\n",
        "        #result = []\n",
        "        #for i in range(start, stop):\n",
        "        #  result.append(self.array[i])\n",
        "        #return result\n",
        "        return self.array[start:stop]\n",
        "\n",
        "\n",
        "a = MyList([1, 2, 3, 4])\n",
        "assert a.return_sum() == 10\n",
        "assert a.make_reverse() == [4, 3, 2, 1]\n",
        "assert a.make_slice(0, 2) == [1, 2]\n",
        "\n",
        "b = MyList([5, 6, 6, 5])\n",
        "assert b.return_sum() == 22\n",
        "assert b.make_reverse() == [5, 6, 6, 5]\n",
        "assert b.make_slice(1, 2) == [6]"
      ]
    },
    {
      "cell_type": "code",
      "execution_count": null,
      "id": "aa5dc08b",
      "metadata": {
        "colab": {
          "base_uri": "https://localhost:8080/"
        },
        "id": "aa5dc08b",
        "outputId": "f8bd4901-0bbd-49f5-a031-fe404b6c8169"
      },
      "outputs": [
        {
          "output_type": "stream",
          "name": "stdout",
          "text": [
            "10\n",
            "<list_reverseiterator object at 0x79d6ef85f670>\n",
            "[1, 2]\n"
          ]
        }
      ],
      "source": [
        "a = MyList([1, 2, 3, 4])\n",
        "print(a.return_sum())\n",
        "print(a.make_reverse())\n",
        "print(a.make_slice(0, 2))"
      ]
    },
    {
      "cell_type": "code",
      "source": [],
      "metadata": {
        "id": "ct66fOIiOjXq"
      },
      "id": "ct66fOIiOjXq",
      "execution_count": null,
      "outputs": []
    }
  ],
  "metadata": {
    "kernelspec": {
      "display_name": "Python 3 (ipykernel)",
      "language": "python",
      "name": "python3"
    },
    "language_info": {
      "codemirror_mode": {
        "name": "ipython",
        "version": 3
      },
      "file_extension": ".py",
      "mimetype": "text/x-python",
      "name": "python",
      "nbconvert_exporter": "python",
      "pygments_lexer": "ipython3",
      "version": "3.9.13"
    },
    "colab": {
      "provenance": []
    }
  },
  "nbformat": 4,
  "nbformat_minor": 5
}