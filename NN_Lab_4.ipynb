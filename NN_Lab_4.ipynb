{
  "nbformat": 4,
  "nbformat_minor": 0,
  "metadata": {
    "colab": {
      "provenance": [],
      "authorship_tag": "ABX9TyOZEIR+ciSY29yQwjjyrMX9",
      "include_colab_link": true
    },
    "kernelspec": {
      "name": "python3",
      "display_name": "Python 3"
    },
    "language_info": {
      "name": "python"
    }
  },
  "cells": [
    {
      "cell_type": "markdown",
      "metadata": {
        "id": "view-in-github",
        "colab_type": "text"
      },
      "source": [
        "<a href=\"https://colab.research.google.com/github/21astroboy/NN-ML/blob/main/NN_Lab_4.ipynb\" target=\"_parent\"><img src=\"https://colab.research.google.com/assets/colab-badge.svg\" alt=\"Open In Colab\"/></a>"
      ]
    },
    {
      "cell_type": "code",
      "execution_count": 1,
      "metadata": {
        "id": "F6zqVzb2SCmj"
      },
      "outputs": [],
      "source": [
        "import pandas as pd\n",
        "import numpy as np\n",
        "import matplotlib.pyplot as plt\n",
        "import seaborn as sns"
      ]
    },
    {
      "cell_type": "code",
      "source": [
        "!pip install scikit-optimize"
      ],
      "metadata": {
        "colab": {
          "base_uri": "https://localhost:8080/"
        },
        "id": "fZwYVN27SGhP",
        "outputId": "7bdcb437-5e59-4287-c55f-c20816eaf202"
      },
      "execution_count": 2,
      "outputs": [
        {
          "output_type": "stream",
          "name": "stdout",
          "text": [
            "Collecting scikit-optimize\n",
            "  Downloading scikit_optimize-0.10.1-py2.py3-none-any.whl (107 kB)\n",
            "\u001b[2K     \u001b[90m━━━━━━━━━━━━━━━━━━━━━━━━━━━━━━━━━━━━━━━━\u001b[0m \u001b[32m107.7/107.7 kB\u001b[0m \u001b[31m1.2 MB/s\u001b[0m eta \u001b[36m0:00:00\u001b[0m\n",
            "\u001b[?25hRequirement already satisfied: joblib>=0.11 in /usr/local/lib/python3.10/dist-packages (from scikit-optimize) (1.4.2)\n",
            "Collecting pyaml>=16.9 (from scikit-optimize)\n",
            "  Downloading pyaml-24.4.0-py3-none-any.whl (24 kB)\n",
            "Requirement already satisfied: numpy>=1.20.3 in /usr/local/lib/python3.10/dist-packages (from scikit-optimize) (1.25.2)\n",
            "Requirement already satisfied: scipy>=1.1.0 in /usr/local/lib/python3.10/dist-packages (from scikit-optimize) (1.11.4)\n",
            "Requirement already satisfied: scikit-learn>=1.0.0 in /usr/local/lib/python3.10/dist-packages (from scikit-optimize) (1.2.2)\n",
            "Requirement already satisfied: packaging>=21.3 in /usr/local/lib/python3.10/dist-packages (from scikit-optimize) (24.0)\n",
            "Requirement already satisfied: PyYAML in /usr/local/lib/python3.10/dist-packages (from pyaml>=16.9->scikit-optimize) (6.0.1)\n",
            "Requirement already satisfied: threadpoolctl>=2.0.0 in /usr/local/lib/python3.10/dist-packages (from scikit-learn>=1.0.0->scikit-optimize) (3.5.0)\n",
            "Installing collected packages: pyaml, scikit-optimize\n",
            "Successfully installed pyaml-24.4.0 scikit-optimize-0.10.1\n"
          ]
        }
      ]
    },
    {
      "cell_type": "code",
      "source": [
        "df = pd.read_csv(\"/content/Sleep_health_and_lifestyle_dataset.csv\",index_col = \"Person ID\")"
      ],
      "metadata": {
        "id": "_0PMQb7vSIO9"
      },
      "execution_count": 4,
      "outputs": []
    },
    {
      "cell_type": "code",
      "source": [
        "df[\"Sleep Disorder\"].value_counts()"
      ],
      "metadata": {
        "colab": {
          "base_uri": "https://localhost:8080/"
        },
        "id": "A38ZBgWLSS29",
        "outputId": "9491033c-1202-4a50-e12f-7a879ff5464f"
      },
      "execution_count": 5,
      "outputs": [
        {
          "output_type": "execute_result",
          "data": {
            "text/plain": [
              "Sleep Disorder\n",
              "Sleep Apnea    78\n",
              "Insomnia       77\n",
              "Name: count, dtype: int64"
            ]
          },
          "metadata": {},
          "execution_count": 5
        }
      ]
    },
    {
      "cell_type": "code",
      "source": [
        "df = df.fillna(\"None\")"
      ],
      "metadata": {
        "id": "jX6bC_-TShdp"
      },
      "execution_count": 6,
      "outputs": []
    },
    {
      "cell_type": "code",
      "source": [
        "df[\"Sleep Disorder\"].value_counts()"
      ],
      "metadata": {
        "colab": {
          "base_uri": "https://localhost:8080/"
        },
        "id": "c-WEtr7OSizf",
        "outputId": "dd52bec0-e50e-40e8-a8be-b0f9d4b683e9"
      },
      "execution_count": 7,
      "outputs": [
        {
          "output_type": "execute_result",
          "data": {
            "text/plain": [
              "Sleep Disorder\n",
              "None           219\n",
              "Sleep Apnea     78\n",
              "Insomnia        77\n",
              "Name: count, dtype: int64"
            ]
          },
          "metadata": {},
          "execution_count": 7
        }
      ]
    },
    {
      "cell_type": "code",
      "source": [
        "df.isna().sum()"
      ],
      "metadata": {
        "colab": {
          "base_uri": "https://localhost:8080/"
        },
        "id": "cUKO61AMSkfU",
        "outputId": "08efeedd-bf7f-4e42-b93e-41c1533b4bb1"
      },
      "execution_count": 8,
      "outputs": [
        {
          "output_type": "execute_result",
          "data": {
            "text/plain": [
              "Gender                     0\n",
              "Age                        0\n",
              "Occupation                 0\n",
              "Sleep Duration             0\n",
              "Quality of Sleep           0\n",
              "Physical Activity Level    0\n",
              "Stress Level               0\n",
              "BMI Category               0\n",
              "Blood Pressure             0\n",
              "Heart Rate                 0\n",
              "Daily Steps                0\n",
              "Sleep Disorder             0\n",
              "dtype: int64"
            ]
          },
          "metadata": {},
          "execution_count": 8
        }
      ]
    },
    {
      "cell_type": "code",
      "source": [
        "from sklearn.model_selection import train_test_split\n",
        "\n",
        "X = df.drop('Sleep Disorder', axis=1)\n",
        "y = df['Sleep Disorder']\n",
        "X_train, X_test, y_train, y_test = train_test_split(X, y, test_size=0.3, random_state=21, stratify=y, shuffle=True)\n",
        "\n",
        "print(\"Размер тренировочной выборки:\", X_train.shape)\n",
        "print(\"Размер тестовой выборки:\", X_test.shape)\n"
      ],
      "metadata": {
        "colab": {
          "base_uri": "https://localhost:8080/"
        },
        "id": "79StC4ZjSmYy",
        "outputId": "5fd05836-7290-4a10-b63a-9be61db1223f"
      },
      "execution_count": 9,
      "outputs": [
        {
          "output_type": "stream",
          "name": "stdout",
          "text": [
            "Размер тренировочной выборки: (261, 11)\n",
            "Размер тестовой выборки: (113, 11)\n"
          ]
        }
      ]
    },
    {
      "cell_type": "code",
      "source": [
        "from sklearn.preprocessing import StandardScaler, OneHotEncoder\n",
        "from sklearn.compose import ColumnTransformer\n",
        "from sklearn.pipeline import Pipeline\n",
        "from sklearn.impute import SimpleImputer\n",
        "\n",
        "\n",
        "numeric_features = ['Age', 'Sleep Duration', 'Quality of Sleep', 'Physical Activity Level', 'Stress Level', 'Heart Rate', 'Daily Steps']\n",
        "categorical_features = ['Gender', 'Occupation', 'BMI Category', 'Blood Pressure']\n",
        "\n",
        "numeric_transformer = Pipeline(steps=[\n",
        "    ('imputer', SimpleImputer(strategy='median')),\n",
        "    ('scaler', StandardScaler())\n",
        "])\n",
        "\n",
        "categorical_transformer = Pipeline(steps=[\n",
        "    ('imputer', SimpleImputer(strategy='constant', fill_value='missing')),\n",
        "    ('onehot', OneHotEncoder(handle_unknown='ignore'))\n",
        "])\n",
        "\n",
        "preprocessor = ColumnTransformer(\n",
        "    transformers=[\n",
        "        ('num', numeric_transformer, numeric_features),\n",
        "        ('cat', categorical_transformer, categorical_features)\n",
        "    ])\n",
        "\n",
        "\n",
        "X_train_processed = preprocessor.fit_transform(X_train)\n",
        "X_test_processed = preprocessor.transform(X_test)\n",
        "\n",
        "print(\"Размер предобработанной тренировочной выборки:\", X_train_processed.shape)\n",
        "print(\"Размер предобработанной тестовой выборки:\", X_test_processed.shape)\n"
      ],
      "metadata": {
        "colab": {
          "base_uri": "https://localhost:8080/"
        },
        "id": "PZ5Xv3bDSozt",
        "outputId": "3faf844b-105e-4824-dd5b-67e398b534f7"
      },
      "execution_count": 10,
      "outputs": [
        {
          "output_type": "stream",
          "name": "stdout",
          "text": [
            "Размер предобработанной тренировочной выборки: (261, 45)\n",
            "Размер предобработанной тестовой выборки: (113, 45)\n"
          ]
        }
      ]
    },
    {
      "cell_type": "code",
      "source": [
        "from sklearn.preprocessing import LabelEncoder\n",
        "\n",
        "label_encoder = LabelEncoder()\n",
        "y_train_encoded = label_encoder.fit_transform(y_train)\n",
        "y_test_encoded = label_encoder.transform(y_test)\n",
        "\n",
        "print(\"Форма закодированных тренировочных меток:\", y_train_encoded.shape)\n",
        "print(\"Форма закодированных тестовых меток:\", y_test_encoded.shape)\n"
      ],
      "metadata": {
        "colab": {
          "base_uri": "https://localhost:8080/"
        },
        "id": "2ci9Z3dwTJpx",
        "outputId": "7b73762d-963f-49cf-dfda-7335a009bd52"
      },
      "execution_count": 12,
      "outputs": [
        {
          "output_type": "stream",
          "name": "stdout",
          "text": [
            "Форма закодированных тренировочных меток: (261,)\n",
            "Форма закодированных тестовых меток: (113,)\n"
          ]
        }
      ]
    },
    {
      "cell_type": "code",
      "source": [
        "y_train_encoded"
      ],
      "metadata": {
        "colab": {
          "base_uri": "https://localhost:8080/"
        },
        "id": "zOZdoS4JTLZy",
        "outputId": "79aa66da-e3e0-4636-c060-a08c7a400870"
      },
      "execution_count": 13,
      "outputs": [
        {
          "output_type": "execute_result",
          "data": {
            "text/plain": [
              "array([0, 1, 1, 1, 1, 1, 1, 1, 1, 1, 2, 1, 1, 2, 1, 1, 1, 1, 1, 1, 1, 1,\n",
              "       1, 0, 0, 1, 1, 1, 1, 1, 2, 2, 0, 1, 2, 1, 1, 1, 1, 2, 2, 0, 1, 0,\n",
              "       1, 1, 1, 1, 1, 0, 2, 1, 1, 2, 2, 1, 0, 0, 1, 0, 1, 1, 0, 1, 2, 1,\n",
              "       1, 0, 1, 0, 1, 2, 0, 2, 2, 2, 0, 1, 1, 1, 1, 2, 2, 1, 1, 1, 0, 1,\n",
              "       2, 2, 2, 1, 1, 1, 1, 1, 0, 1, 1, 2, 0, 1, 1, 2, 1, 1, 1, 1, 1, 1,\n",
              "       1, 1, 1, 1, 0, 1, 2, 2, 1, 1, 0, 1, 1, 1, 0, 2, 1, 1, 0, 2, 2, 0,\n",
              "       2, 1, 1, 1, 0, 2, 1, 0, 1, 2, 0, 1, 1, 0, 0, 2, 1, 2, 1, 1, 1, 1,\n",
              "       2, 1, 1, 1, 1, 0, 1, 1, 2, 0, 2, 1, 1, 0, 2, 1, 1, 0, 1, 0, 2, 2,\n",
              "       2, 1, 1, 2, 2, 0, 1, 1, 1, 1, 1, 1, 1, 0, 2, 2, 1, 2, 2, 2, 1, 1,\n",
              "       1, 0, 0, 1, 1, 1, 0, 1, 0, 0, 0, 1, 0, 1, 1, 0, 2, 0, 2, 1, 1, 0,\n",
              "       0, 1, 1, 2, 1, 1, 2, 1, 0, 0, 1, 1, 1, 0, 0, 0, 2, 1, 0, 1, 1, 1,\n",
              "       1, 1, 1, 1, 1, 1, 1, 1, 1, 1, 1, 1, 1, 2, 0, 1, 2, 0, 2])"
            ]
          },
          "metadata": {},
          "execution_count": 13
        }
      ]
    },
    {
      "cell_type": "code",
      "source": [],
      "metadata": {
        "id": "lz2Al7JWjDOd"
      },
      "execution_count": 13,
      "outputs": []
    },
    {
      "cell_type": "code",
      "source": [
        "import torch\n",
        "from torch.utils.data import Dataset, DataLoader\n",
        "from sklearn.model_selection import train_test_split\n",
        "from sklearn.preprocessing import StandardScaler, OneHotEncoder, LabelEncoder\n",
        "from sklearn.compose import ColumnTransformer\n",
        "from sklearn.pipeline import Pipeline\n",
        "from sklearn.impute import SimpleImputer\n",
        "import pandas as pd\n",
        "import numpy as np\n",
        "\n",
        "class CustomDataset(Dataset):\n",
        "    def __init__(self, X, y, transform=None):\n",
        "        self.X = torch.tensor(X, dtype=torch.float32)\n",
        "        self.y = torch.tensor(y, dtype=torch.long)\n",
        "        self.transform = transform\n",
        "\n",
        "    def __len__(self):\n",
        "        return len(self.X)\n",
        "\n",
        "    def __getitem__(self, idx):\n",
        "        sample = self.X[idx]\n",
        "        label = self.y[idx]\n",
        "        if self.transform:\n",
        "            sample = self.transform(sample)\n",
        "        return sample, label\n",
        "\n",
        "df = pd.read_csv('Sleep_health_and_lifestyle_dataset.csv')\n",
        "df = df.fillna(\"None\")\n",
        "X = df.drop('Sleep Disorder', axis=1)\n",
        "y = df['Sleep Disorder']\n",
        "X_train, X_test, y_train, y_test = train_test_split(X, y, test_size=0.3, random_state=21, stratify=y, shuffle=True)\n",
        "\n",
        "print(\"Размер тренировочной выборки:\", X_train.shape)\n",
        "print(\"Размер тестовой выборки:\", X_test.shape)\n",
        "\n",
        "numeric_features = ['Age', 'Sleep Duration', 'Quality of Sleep', 'Physical Activity Level', 'Stress Level', 'Heart Rate', 'Daily Steps']\n",
        "categorical_features = ['Gender', 'Occupation', 'BMI Category', 'Blood Pressure']\n",
        "\n",
        "numeric_transformer = Pipeline(steps=[\n",
        "    ('imputer', SimpleImputer(strategy='median')),\n",
        "    ('scaler', StandardScaler())\n",
        "])\n",
        "\n",
        "categorical_transformer = Pipeline(steps=[\n",
        "    ('imputer', SimpleImputer(strategy='constant', fill_value='missing')),\n",
        "    ('onehot', OneHotEncoder(handle_unknown='ignore'))\n",
        "])\n",
        "\n",
        "preprocessor = ColumnTransformer(\n",
        "    transformers=[\n",
        "        ('num', numeric_transformer, numeric_features),\n",
        "        ('cat', categorical_transformer, categorical_features)\n",
        "    ])\n",
        "\n",
        "X_train_processed = preprocessor.fit_transform(X_train).toarray()\n",
        "X_test_processed = preprocessor.transform(X_test).toarray()\n",
        "\n",
        "print(\"Размер предобработанной тренировочной выборки:\", X_train_processed.shape)\n",
        "print(\"Размер предобработанной тестовой выборки:\", X_test_processed.shape)\n",
        "\n",
        "label_encoder = LabelEncoder()\n",
        "y_train_encoded = label_encoder.fit_transform(y_train)\n",
        "y_test_encoded = label_encoder.transform(y_test)\n",
        "\n",
        "\n",
        "\n",
        "train_dataset = CustomDataset(X_train_processed, y_train_encoded)\n",
        "test_dataset = CustomDataset(X_test_processed, y_test_encoded)\n",
        "\n",
        "train_dataloader = DataLoader(train_dataset, batch_size=64, shuffle=True)\n",
        "test_dataloader = DataLoader(test_dataset, batch_size=64, shuffle=True)\n",
        "\n",
        "train_features, train_labels = next(iter(train_dataloader))\n",
        "print(f\"Feature batch shape: {train_features.size()}\")\n",
        "print(f\"Labels batch shape: {train_labels.size()}\")\n",
        "print(train_features)\n",
        "print()\n",
        "print()\n",
        "print(train_labels)"
      ],
      "metadata": {
        "colab": {
          "base_uri": "https://localhost:8080/"
        },
        "id": "niC5ySmtkKrp",
        "outputId": "5a5c2994-785d-45dd-85df-21e1f76cab07"
      },
      "execution_count": 26,
      "outputs": [
        {
          "output_type": "stream",
          "name": "stdout",
          "text": [
            "Размер тренировочной выборки: (261, 12)\n",
            "Размер тестовой выборки: (113, 12)\n",
            "Размер предобработанной тренировочной выборки: (261, 45)\n",
            "Размер предобработанной тестовой выборки: (113, 45)\n",
            "Feature batch shape: torch.Size([64, 45])\n",
            "Labels batch shape: torch.Size([64])\n",
            "tensor([[-0.3880,  0.0414,  0.5271,  ...,  0.0000,  0.0000,  0.0000],\n",
            "        [-0.3880,  0.0414,  0.5271,  ...,  0.0000,  0.0000,  0.0000],\n",
            "        [-1.0768, -1.2302, -1.1505,  ...,  0.0000,  0.0000,  0.0000],\n",
            "        ...,\n",
            "        [-1.1916, -1.4845, -1.1505,  ...,  0.0000,  0.0000,  0.0000],\n",
            "        [ 0.9897, -1.3573, -1.1505,  ...,  0.0000,  1.0000,  0.0000],\n",
            "        [-1.1916, -1.4845, -1.1505,  ...,  0.0000,  0.0000,  0.0000]])\n",
            "\n",
            "\n",
            "tensor([0, 1, 1, 1, 1, 0, 1, 1, 2, 1, 0, 1, 0, 0, 0, 1, 2, 1, 2, 1, 2, 1, 1, 0,\n",
            "        2, 1, 1, 2, 1, 1, 1, 1, 2, 0, 1, 1, 1, 2, 1, 1, 1, 1, 1, 1, 0, 1, 1, 2,\n",
            "        2, 0, 1, 1, 0, 1, 1, 1, 1, 1, 1, 1, 0, 1, 2, 1])\n"
          ]
        }
      ]
    },
    {
      "cell_type": "code",
      "source": [
        "import torch\n",
        "from torch.utils.data import Dataset, DataLoader\n",
        "\n",
        "class CustomDataset(Dataset):\n",
        "    def __init__(self, X, y):\n",
        "        self.X = torch.tensor(X, dtype=torch.float32)\n",
        "        self.y = torch.tensor(y, dtype=torch.long)\n",
        "\n",
        "    def __len__(self):\n",
        "        return len(self.X)\n",
        "\n",
        "    def __getitem__(self, idx):\n",
        "        sample = self.X[idx]\n",
        "        label = self.y[idx]\n",
        "        return sample, label\n",
        "\n",
        "train_dataset = CustomDataset(X_train_processed, y_train_encoded)\n",
        "test_dataset = CustomDataset(X_test_processed, y_test_encoded)\n",
        "\n",
        "train_dataloader = DataLoader(train_dataset, batch_size=64, shuffle=True)\n",
        "test_dataloader = DataLoader(test_dataset, batch_size=64, shuffle=True)\n",
        "\n",
        "\n",
        "import torch.nn as nn\n",
        "import torch.optim as optim\n",
        "\n",
        "class SimpleNN(nn.Module):\n",
        "    def __init__(self, input_size, num_classes):\n",
        "        super(SimpleNN, self).__init__()\n",
        "        self.linear = nn.Linear(input_size, num_classes)\n",
        "\n",
        "    def forward(self, x):\n",
        "        out = self.linear(x)\n",
        "        return out\n",
        "\n",
        "input_size = X_train_processed.shape[1]\n",
        "num_classes = len(np.unique(y_train_encoded))\n",
        "model = SimpleNN(input_size, num_classes)\n",
        "\n",
        "\n",
        "\n",
        "criterion = nn.CrossEntropyLoss()\n",
        "optimizer = optim.SGD(model.parameters(), lr=0.01)\n",
        "\n",
        "def train_model(model, train_loader, test_loader, criterion, optimizer, num_epochs):\n",
        "    train_losses = []\n",
        "    test_losses = []\n",
        "    for epoch in range(num_epochs):\n",
        "        model.train()\n",
        "        running_loss = 0.0\n",
        "        for features, labels in train_loader:\n",
        "            outputs = model(features)\n",
        "            loss = criterion(outputs, labels)\n",
        "\n",
        "            optimizer.zero_grad()\n",
        "            loss.backward()\n",
        "            optimizer.step()\n",
        "\n",
        "            running_loss += loss.item()\n",
        "\n",
        "        train_loss = running_loss / len(train_loader)\n",
        "        train_losses.append(train_loss)\n",
        "\n",
        "        # Calculate test loss\n",
        "        model.eval()\n",
        "        test_running_loss = 0.0\n",
        "        with torch.no_grad():\n",
        "            for features, labels in test_loader:\n",
        "                outputs = model(features)\n",
        "                loss = criterion(outputs, labels)\n",
        "                test_running_loss += loss.item()\n",
        "\n",
        "        test_loss = test_running_loss / len(test_loader)\n",
        "        test_losses.append(test_loss)\n",
        "\n",
        "        print(f'Epoch [{epoch+1}/{num_epochs}], Train Loss: {train_loss:.4f}, Test Loss: {test_loss:.4f}')\n",
        "\n",
        "    return train_losses, test_losses\n",
        "\n",
        "def evaluate_model(model, dataloader):\n",
        "    model.eval()\n",
        "    correct = 0\n",
        "    total = 0\n",
        "    with torch.no_grad():\n",
        "        for features, labels in dataloader:\n",
        "            outputs = model(features)\n",
        "            _, predicted = torch.max(outputs.data, 1)\n",
        "            total += labels.size(0)\n",
        "            correct += (predicted == labels).sum().item()\n",
        "    accuracy = correct / total\n",
        "    return accuracy\n",
        "\n",
        "\n",
        "\n",
        "\n",
        "num_epochs = 100\n",
        "train_losses, test_losses = train_model(model, train_dataloader, test_dataloader, criterion, optimizer, num_epochs)\n",
        "\n",
        "train_accuracy = evaluate_model(model, train_dataloader)\n",
        "test_accuracy = evaluate_model(model, test_dataloader)\n",
        "\n",
        "print(f'Accuracy of the model on the training set: {train_accuracy * 100:.2f}%')\n",
        "print(f'Accuracy of the model on the test set: {test_accuracy * 100:.2f}%')\n",
        "\n",
        "import matplotlib.pyplot as plt\n",
        "\n",
        "plt.plot(train_losses, label='Train Loss')\n",
        "plt.plot(test_losses, label='Test Loss')\n",
        "plt.xlabel('Epoch')\n",
        "plt.ylabel('Loss')\n",
        "plt.legend()\n",
        "plt.title('Learning Curve')\n",
        "plt.show()\n"
      ],
      "metadata": {
        "colab": {
          "base_uri": "https://localhost:8080/",
          "height": 1000
        },
        "id": "6KdLDcgdkKui",
        "outputId": "3baf63bd-0251-44cf-eb39-0c1a98dc8353"
      },
      "execution_count": 51,
      "outputs": [
        {
          "output_type": "stream",
          "name": "stdout",
          "text": [
            "Epoch [1/100], Train Loss: 1.0679, Test Loss: 1.0846\n",
            "Epoch [2/100], Train Loss: 1.0158, Test Loss: 1.0540\n",
            "Epoch [3/100], Train Loss: 0.9812, Test Loss: 1.0266\n",
            "Epoch [4/100], Train Loss: 0.9636, Test Loss: 0.9934\n",
            "Epoch [5/100], Train Loss: 0.9310, Test Loss: 0.9761\n",
            "Epoch [6/100], Train Loss: 0.9485, Test Loss: 0.9532\n",
            "Epoch [7/100], Train Loss: 0.8874, Test Loss: 0.9366\n",
            "Epoch [8/100], Train Loss: 0.8819, Test Loss: 0.9086\n",
            "Epoch [9/100], Train Loss: 0.8963, Test Loss: 0.8918\n",
            "Epoch [10/100], Train Loss: 0.8056, Test Loss: 0.8693\n",
            "Epoch [11/100], Train Loss: 0.7877, Test Loss: 0.8516\n",
            "Epoch [12/100], Train Loss: 0.7797, Test Loss: 0.8383\n",
            "Epoch [13/100], Train Loss: 0.7642, Test Loss: 0.8296\n",
            "Epoch [14/100], Train Loss: 0.7345, Test Loss: 0.8106\n",
            "Epoch [15/100], Train Loss: 0.7502, Test Loss: 0.8054\n",
            "Epoch [16/100], Train Loss: 0.7510, Test Loss: 0.7838\n",
            "Epoch [17/100], Train Loss: 0.6943, Test Loss: 0.7765\n",
            "Epoch [18/100], Train Loss: 0.7323, Test Loss: 0.7609\n",
            "Epoch [19/100], Train Loss: 0.6776, Test Loss: 0.7515\n",
            "Epoch [20/100], Train Loss: 0.6738, Test Loss: 0.7371\n",
            "Epoch [21/100], Train Loss: 0.7075, Test Loss: 0.7384\n",
            "Epoch [22/100], Train Loss: 0.6352, Test Loss: 0.7375\n",
            "Epoch [23/100], Train Loss: 0.6102, Test Loss: 0.7162\n",
            "Epoch [24/100], Train Loss: 0.6023, Test Loss: 0.7066\n",
            "Epoch [25/100], Train Loss: 0.6029, Test Loss: 0.7053\n",
            "Epoch [26/100], Train Loss: 0.5920, Test Loss: 0.6946\n",
            "Epoch [27/100], Train Loss: 0.6639, Test Loss: 0.6989\n",
            "Epoch [28/100], Train Loss: 0.6607, Test Loss: 0.6969\n",
            "Epoch [29/100], Train Loss: 0.5963, Test Loss: 0.6867\n",
            "Epoch [30/100], Train Loss: 0.5854, Test Loss: 0.6690\n",
            "Epoch [31/100], Train Loss: 0.6974, Test Loss: 0.6650\n",
            "Epoch [32/100], Train Loss: 0.5896, Test Loss: 0.6659\n",
            "Epoch [33/100], Train Loss: 0.5626, Test Loss: 0.6636\n",
            "Epoch [34/100], Train Loss: 0.5453, Test Loss: 0.6583\n",
            "Epoch [35/100], Train Loss: 0.6203, Test Loss: 0.6465\n",
            "Epoch [36/100], Train Loss: 0.6911, Test Loss: 0.6524\n",
            "Epoch [37/100], Train Loss: 0.5269, Test Loss: 0.6452\n",
            "Epoch [38/100], Train Loss: 0.5820, Test Loss: 0.6364\n",
            "Epoch [39/100], Train Loss: 0.5306, Test Loss: 0.6380\n",
            "Epoch [40/100], Train Loss: 0.5123, Test Loss: 0.6252\n",
            "Epoch [41/100], Train Loss: 0.4971, Test Loss: 0.6291\n",
            "Epoch [42/100], Train Loss: 0.5046, Test Loss: 0.6104\n",
            "Epoch [43/100], Train Loss: 0.4952, Test Loss: 0.6149\n",
            "Epoch [44/100], Train Loss: 0.4925, Test Loss: 0.6158\n",
            "Epoch [45/100], Train Loss: 0.5190, Test Loss: 0.6273\n",
            "Epoch [46/100], Train Loss: 0.5268, Test Loss: 0.6156\n",
            "Epoch [47/100], Train Loss: 0.5762, Test Loss: 0.5905\n",
            "Epoch [48/100], Train Loss: 0.5454, Test Loss: 0.5964\n",
            "Epoch [49/100], Train Loss: 0.5475, Test Loss: 0.5924\n",
            "Epoch [50/100], Train Loss: 0.5292, Test Loss: 0.5946\n",
            "Epoch [51/100], Train Loss: 0.5271, Test Loss: 0.5976\n",
            "Epoch [52/100], Train Loss: 0.5198, Test Loss: 0.5975\n",
            "Epoch [53/100], Train Loss: 0.4868, Test Loss: 0.5904\n",
            "Epoch [54/100], Train Loss: 0.4708, Test Loss: 0.5811\n",
            "Epoch [55/100], Train Loss: 0.4476, Test Loss: 0.5865\n",
            "Epoch [56/100], Train Loss: 0.4872, Test Loss: 0.5799\n",
            "Epoch [57/100], Train Loss: 0.5173, Test Loss: 0.5842\n",
            "Epoch [58/100], Train Loss: 0.5135, Test Loss: 0.5710\n",
            "Epoch [59/100], Train Loss: 0.5114, Test Loss: 0.5877\n",
            "Epoch [60/100], Train Loss: 0.4906, Test Loss: 0.5693\n",
            "Epoch [61/100], Train Loss: 0.4410, Test Loss: 0.5893\n",
            "Epoch [62/100], Train Loss: 0.4584, Test Loss: 0.5888\n",
            "Epoch [63/100], Train Loss: 0.4224, Test Loss: 0.5712\n",
            "Epoch [64/100], Train Loss: 0.4473, Test Loss: 0.5798\n",
            "Epoch [65/100], Train Loss: 0.4309, Test Loss: 0.5806\n",
            "Epoch [66/100], Train Loss: 0.4190, Test Loss: 0.5756\n",
            "Epoch [67/100], Train Loss: 0.4028, Test Loss: 0.5636\n",
            "Epoch [68/100], Train Loss: 0.4089, Test Loss: 0.5634\n",
            "Epoch [69/100], Train Loss: 0.4711, Test Loss: 0.5604\n",
            "Epoch [70/100], Train Loss: 0.5465, Test Loss: 0.5510\n",
            "Epoch [71/100], Train Loss: 0.4661, Test Loss: 0.5629\n",
            "Epoch [72/100], Train Loss: 0.4107, Test Loss: 0.5617\n",
            "Epoch [73/100], Train Loss: 0.4322, Test Loss: 0.5616\n",
            "Epoch [74/100], Train Loss: 0.4729, Test Loss: 0.5652\n",
            "Epoch [75/100], Train Loss: 0.4196, Test Loss: 0.5495\n",
            "Epoch [76/100], Train Loss: 0.5128, Test Loss: 0.5577\n",
            "Epoch [77/100], Train Loss: 0.4876, Test Loss: 0.5754\n",
            "Epoch [78/100], Train Loss: 0.4130, Test Loss: 0.5528\n",
            "Epoch [79/100], Train Loss: 0.4320, Test Loss: 0.5521\n",
            "Epoch [80/100], Train Loss: 0.4394, Test Loss: 0.5660\n",
            "Epoch [81/100], Train Loss: 0.4638, Test Loss: 0.5580\n",
            "Epoch [82/100], Train Loss: 0.4715, Test Loss: 0.5520\n",
            "Epoch [83/100], Train Loss: 0.3980, Test Loss: 0.5540\n",
            "Epoch [84/100], Train Loss: 0.3999, Test Loss: 0.5461\n",
            "Epoch [85/100], Train Loss: 0.3883, Test Loss: 0.5439\n",
            "Epoch [86/100], Train Loss: 0.4336, Test Loss: 0.5595\n",
            "Epoch [87/100], Train Loss: 0.3948, Test Loss: 0.5400\n",
            "Epoch [88/100], Train Loss: 0.3803, Test Loss: 0.5359\n",
            "Epoch [89/100], Train Loss: 0.5029, Test Loss: 0.5386\n",
            "Epoch [90/100], Train Loss: 0.4974, Test Loss: 0.5456\n",
            "Epoch [91/100], Train Loss: 0.3830, Test Loss: 0.5469\n",
            "Epoch [92/100], Train Loss: 0.4137, Test Loss: 0.5528\n",
            "Epoch [93/100], Train Loss: 0.4242, Test Loss: 0.5468\n",
            "Epoch [94/100], Train Loss: 0.3925, Test Loss: 0.5364\n",
            "Epoch [95/100], Train Loss: 0.4403, Test Loss: 0.5421\n",
            "Epoch [96/100], Train Loss: 0.4596, Test Loss: 0.5421\n",
            "Epoch [97/100], Train Loss: 0.4478, Test Loss: 0.5421\n",
            "Epoch [98/100], Train Loss: 0.3874, Test Loss: 0.5417\n",
            "Epoch [99/100], Train Loss: 0.3665, Test Loss: 0.5360\n",
            "Epoch [100/100], Train Loss: 0.3906, Test Loss: 0.5428\n",
            "Accuracy of the model on the training set: 90.42%\n",
            "Accuracy of the model on the test set: 82.30%\n"
          ]
        },
        {
          "output_type": "display_data",
          "data": {
            "text/plain": [
              "<Figure size 640x480 with 1 Axes>"
            ],
            "image/png": "[encoded data removed]"
          },
          "metadata": {}
        }
      ]
    },
    {
      "cell_type": "code",
      "source": [],
      "metadata": {
        "id": "MIUzMHG7kKxK"
      },
      "execution_count": 49,
      "outputs": []
    },
    {
      "cell_type": "code",
      "source": [],
      "metadata": {
        "id": "-tabi5zDkK0H"
      },
      "execution_count": null,
      "outputs": []
    },
    {
      "cell_type": "code",
      "source": [],
      "metadata": {
        "id": "a7U_B3m_5WZW"
      },
      "execution_count": null,
      "outputs": []
    },
    {
      "cell_type": "code",
      "source": [
        "import torch.nn as nn\n",
        "import torch.optim as optim\n",
        "\n",
        "class SimpleNNWithHiddenLayer(nn.Module):\n",
        "    def __init__(self, input_size, hidden_size, num_classes):\n",
        "        super(SimpleNNWithHiddenLayer, self).__init__()\n",
        "        self.hidden = nn.Linear(input_size, hidden_size)\n",
        "        self.relu = nn.ReLU()\n",
        "        self.output = nn.Linear(hidden_size, num_classes)\n",
        "\n",
        "    def forward(self, x):\n",
        "        out = self.hidden(x)\n",
        "        out = self.relu(out)\n",
        "        out = self.output(out)\n",
        "        return out\n",
        "\n",
        "input_size = X_train_processed.shape[1]\n",
        "hidden_size = 50  # Adjust this size as needed\n",
        "num_classes = len(np.unique(y_train_encoded))\n",
        "model = SimpleNNWithHiddenLayer(input_size, hidden_size, num_classes)\n",
        "\n",
        "\n",
        "criterion = nn.CrossEntropyLoss()\n",
        "optimizer = optim.Adam(model.parameters(), lr=0.001)\n",
        "\n",
        "def train_model(model, train_loader, test_loader, criterion, optimizer, num_epochs):\n",
        "    train_losses = []\n",
        "    test_losses = []\n",
        "    for epoch in range(num_epochs):\n",
        "        model.train()\n",
        "        running_loss = 0.0\n",
        "        for features, labels in train_loader:\n",
        "            outputs = model(features)\n",
        "            loss = criterion(outputs, labels)\n",
        "\n",
        "            optimizer.zero_grad()\n",
        "            loss.backward()\n",
        "            optimizer.step()\n",
        "\n",
        "            running_loss += loss.item()\n",
        "\n",
        "        train_loss = running_loss / len(train_loader)\n",
        "        train_losses.append(train_loss)\n",
        "\n",
        "        # Calculate test loss\n",
        "        model.eval()\n",
        "        test_running_loss = 0.0\n",
        "        with torch.no_grad():\n",
        "            for features, labels in test_loader:\n",
        "                outputs = model(features)\n",
        "                loss = criterion(outputs, labels)\n",
        "                test_running_loss += loss.item()\n",
        "\n",
        "        test_loss = test_running_loss / len(test_loader)\n",
        "        test_losses.append(test_loss)\n",
        "\n",
        "        print(f'Epoch [{epoch+1}/{num_epochs}], Train Loss: {train_loss:.4f}, Test Loss: {test_loss:.4f}')\n",
        "\n",
        "    return train_losses, test_losses\n",
        "\n",
        "def evaluate_model(model, dataloader):\n",
        "    model.eval()\n",
        "    correct = 0\n",
        "    total = 0\n",
        "    with torch.no_grad():\n",
        "        for features, labels in dataloader:\n",
        "            outputs = model(features)\n",
        "            _, predicted = torch.max(outputs.data, 1)\n",
        "            total += labels.size(0)\n",
        "            correct += (predicted == labels).sum().item()\n",
        "    accuracy = correct / total\n",
        "    return accuracy\n",
        "\n",
        "\n",
        "\n",
        "num_epochs = 100\n",
        "train_losses, test_losses = train_model(model, train_dataloader, test_dataloader, criterion, optimizer, num_epochs)\n",
        "\n",
        "train_accuracy = evaluate_model(model, train_dataloader)\n",
        "test_accuracy = evaluate_model(model, test_dataloader)\n",
        "\n",
        "print(f'Accuracy of the model on the training set: {train_accuracy * 100:.2f}%')\n",
        "print(f'Accuracy of the model on the test set: {test_accuracy * 100:.2f}%')\n",
        "\n",
        "import matplotlib.pyplot as plt\n",
        "\n",
        "plt.plot(train_losses, label='Train Loss')\n",
        "plt.plot(test_losses, label='Test Loss')\n",
        "plt.xlabel('Epoch')\n",
        "plt.ylabel('Loss')\n",
        "plt.legend()\n",
        "plt.title('Learning Curve')\n",
        "plt.show()\n"
      ],
      "metadata": {
        "colab": {
          "base_uri": "https://localhost:8080/",
          "height": 1000
        },
        "id": "gjG9Zbw25Wb0",
        "outputId": "bb5f0517-8377-44d7-c231-37f6cc489580"
      },
      "execution_count": 54,
      "outputs": [
        {
          "output_type": "stream",
          "name": "stdout",
          "text": [
            "Epoch [1/100], Train Loss: 1.0685, Test Loss: 1.0417\n",
            "Epoch [2/100], Train Loss: 1.0364, Test Loss: 1.0083\n",
            "Epoch [3/100], Train Loss: 0.9768, Test Loss: 0.9720\n",
            "Epoch [4/100], Train Loss: 0.9390, Test Loss: 0.9379\n",
            "Epoch [5/100], Train Loss: 0.9080, Test Loss: 0.9040\n",
            "Epoch [6/100], Train Loss: 0.8430, Test Loss: 0.8732\n",
            "Epoch [7/100], Train Loss: 0.8370, Test Loss: 0.8388\n",
            "Epoch [8/100], Train Loss: 0.7692, Test Loss: 0.8050\n",
            "Epoch [9/100], Train Loss: 0.7343, Test Loss: 0.7703\n",
            "Epoch [10/100], Train Loss: 0.7305, Test Loss: 0.7333\n",
            "Epoch [11/100], Train Loss: 0.6638, Test Loss: 0.7120\n",
            "Epoch [12/100], Train Loss: 0.6316, Test Loss: 0.6683\n",
            "Epoch [13/100], Train Loss: 0.5831, Test Loss: 0.6521\n",
            "Epoch [14/100], Train Loss: 0.5424, Test Loss: 0.6154\n",
            "Epoch [15/100], Train Loss: 0.5323, Test Loss: 0.5933\n",
            "Epoch [16/100], Train Loss: 0.5103, Test Loss: 0.5741\n",
            "Epoch [17/100], Train Loss: 0.4443, Test Loss: 0.5500\n",
            "Epoch [18/100], Train Loss: 0.4447, Test Loss: 0.5345\n",
            "Epoch [19/100], Train Loss: 0.4966, Test Loss: 0.5223\n",
            "Epoch [20/100], Train Loss: 0.3644, Test Loss: 0.5155\n",
            "Epoch [21/100], Train Loss: 0.5324, Test Loss: 0.5042\n",
            "Epoch [22/100], Train Loss: 0.3367, Test Loss: 0.4789\n",
            "Epoch [23/100], Train Loss: 0.5918, Test Loss: 0.4657\n",
            "Epoch [24/100], Train Loss: 0.3172, Test Loss: 0.4821\n",
            "Epoch [25/100], Train Loss: 0.3159, Test Loss: 0.4677\n",
            "Epoch [26/100], Train Loss: 0.3182, Test Loss: 0.4787\n",
            "Epoch [27/100], Train Loss: 0.2900, Test Loss: 0.4817\n",
            "Epoch [28/100], Train Loss: 0.2869, Test Loss: 0.4686\n",
            "Epoch [29/100], Train Loss: 0.2851, Test Loss: 0.4574\n",
            "Epoch [30/100], Train Loss: 0.3769, Test Loss: 0.4842\n",
            "Epoch [31/100], Train Loss: 0.3294, Test Loss: 0.4817\n",
            "Epoch [32/100], Train Loss: 0.2787, Test Loss: 0.4683\n",
            "Epoch [33/100], Train Loss: 0.2847, Test Loss: 0.4505\n",
            "Epoch [34/100], Train Loss: 0.2728, Test Loss: 0.4741\n",
            "Epoch [35/100], Train Loss: 0.2523, Test Loss: 0.4781\n",
            "Epoch [36/100], Train Loss: 0.2448, Test Loss: 0.4813\n",
            "Epoch [37/100], Train Loss: 0.2477, Test Loss: 0.4756\n",
            "Epoch [38/100], Train Loss: 0.2435, Test Loss: 0.4522\n",
            "Epoch [39/100], Train Loss: 0.2356, Test Loss: 0.4788\n",
            "Epoch [40/100], Train Loss: 0.2327, Test Loss: 0.4750\n",
            "Epoch [41/100], Train Loss: 0.2302, Test Loss: 0.4554\n",
            "Epoch [42/100], Train Loss: 0.2296, Test Loss: 0.4772\n",
            "Epoch [43/100], Train Loss: 0.3866, Test Loss: 0.4665\n",
            "Epoch [44/100], Train Loss: 0.4660, Test Loss: 0.4692\n",
            "Epoch [45/100], Train Loss: 0.2514, Test Loss: 0.4660\n",
            "Epoch [46/100], Train Loss: 0.2496, Test Loss: 0.4667\n",
            "Epoch [47/100], Train Loss: 0.2543, Test Loss: 0.4696\n",
            "Epoch [48/100], Train Loss: 0.2268, Test Loss: 0.4891\n",
            "Epoch [49/100], Train Loss: 0.3897, Test Loss: 0.4882\n",
            "Epoch [50/100], Train Loss: 0.2618, Test Loss: 0.4787\n",
            "Epoch [51/100], Train Loss: 0.2449, Test Loss: 0.4841\n",
            "Epoch [52/100], Train Loss: 0.2179, Test Loss: 0.4700\n",
            "Epoch [53/100], Train Loss: 0.2208, Test Loss: 0.4732\n",
            "Epoch [54/100], Train Loss: 0.2165, Test Loss: 0.4840\n",
            "Epoch [55/100], Train Loss: 0.3109, Test Loss: 0.4829\n",
            "Epoch [56/100], Train Loss: 0.2110, Test Loss: 0.4624\n",
            "Epoch [57/100], Train Loss: 0.2146, Test Loss: 0.4767\n",
            "Epoch [58/100], Train Loss: 0.2153, Test Loss: 0.4766\n",
            "Epoch [59/100], Train Loss: 0.2090, Test Loss: 0.4627\n",
            "Epoch [60/100], Train Loss: 0.4557, Test Loss: 0.4514\n",
            "Epoch [61/100], Train Loss: 0.2129, Test Loss: 0.5012\n",
            "Epoch [62/100], Train Loss: 0.2836, Test Loss: 0.4693\n",
            "Epoch [63/100], Train Loss: 0.2182, Test Loss: 0.5023\n",
            "Epoch [64/100], Train Loss: 0.2126, Test Loss: 0.4808\n",
            "Epoch [65/100], Train Loss: 0.2158, Test Loss: 0.4908\n",
            "Epoch [66/100], Train Loss: 0.2126, Test Loss: 0.4551\n",
            "Epoch [67/100], Train Loss: 0.2153, Test Loss: 0.4917\n",
            "Epoch [68/100], Train Loss: 0.2970, Test Loss: 0.4815\n",
            "Epoch [69/100], Train Loss: 0.2072, Test Loss: 0.4907\n",
            "Epoch [70/100], Train Loss: 0.2042, Test Loss: 0.5014\n",
            "Epoch [71/100], Train Loss: 0.3305, Test Loss: 0.4937\n",
            "Epoch [72/100], Train Loss: 0.2007, Test Loss: 0.5002\n",
            "Epoch [73/100], Train Loss: 0.2032, Test Loss: 0.4933\n",
            "Epoch [74/100], Train Loss: 0.2031, Test Loss: 0.4683\n",
            "Epoch [75/100], Train Loss: 0.2586, Test Loss: 0.5021\n",
            "Epoch [76/100], Train Loss: 0.2025, Test Loss: 0.5000\n",
            "Epoch [77/100], Train Loss: 0.1995, Test Loss: 0.4810\n",
            "Epoch [78/100], Train Loss: 0.1999, Test Loss: 0.4793\n",
            "Epoch [79/100], Train Loss: 0.2021, Test Loss: 0.4726\n",
            "Epoch [80/100], Train Loss: 0.2046, Test Loss: 0.4757\n",
            "Epoch [81/100], Train Loss: 0.1974, Test Loss: 0.4745\n",
            "Epoch [82/100], Train Loss: 0.3091, Test Loss: 0.4826\n",
            "Epoch [83/100], Train Loss: 0.2969, Test Loss: 0.5096\n",
            "Epoch [84/100], Train Loss: 0.2201, Test Loss: 0.4902\n",
            "Epoch [85/100], Train Loss: 0.1970, Test Loss: 0.4684\n",
            "Epoch [86/100], Train Loss: 0.4110, Test Loss: 0.4907\n",
            "Epoch [87/100], Train Loss: 0.1998, Test Loss: 0.5163\n",
            "Epoch [88/100], Train Loss: 0.2076, Test Loss: 0.4913\n",
            "Epoch [89/100], Train Loss: 0.3042, Test Loss: 0.5052\n",
            "Epoch [90/100], Train Loss: 0.3332, Test Loss: 0.4838\n",
            "Epoch [91/100], Train Loss: 0.3034, Test Loss: 0.4597\n",
            "Epoch [92/100], Train Loss: 0.3285, Test Loss: 0.4805\n",
            "Epoch [93/100], Train Loss: 0.2129, Test Loss: 0.4791\n",
            "Epoch [94/100], Train Loss: 0.1947, Test Loss: 0.4931\n",
            "Epoch [95/100], Train Loss: 0.1975, Test Loss: 0.4987\n",
            "Epoch [96/100], Train Loss: 0.1915, Test Loss: 0.5011\n",
            "Epoch [97/100], Train Loss: 0.2280, Test Loss: 0.5121\n",
            "Epoch [98/100], Train Loss: 0.1910, Test Loss: 0.4889\n",
            "Epoch [99/100], Train Loss: 0.1919, Test Loss: 0.4914\n",
            "Epoch [100/100], Train Loss: 0.2007, Test Loss: 0.4582\n",
            "Accuracy of the model on the training set: 93.87%\n",
            "Accuracy of the model on the test set: 87.61%\n"
          ]
        },
        {
          "output_type": "display_data",
          "data": {
            "text/plain": [
              "<Figure size 640x480 with 1 Axes>"
            ],
            "image/png": "[encoded data removed]"
          },
          "metadata": {}
        }
      ]
    },
    {
      "cell_type": "code",
      "source": [],
      "metadata": {
        "id": "gw5PrSGX5WeW"
      },
      "execution_count": null,
      "outputs": []
    },
    {
      "cell_type": "code",
      "source": [],
      "metadata": {
        "id": "bhtW4cR25Wgz"
      },
      "execution_count": null,
      "outputs": []
    },
    {
      "cell_type": "code",
      "source": [],
      "metadata": {
        "id": "RU7vRYji5WjQ"
      },
      "execution_count": null,
      "outputs": []
    },
    {
      "cell_type": "code",
      "source": [
        "import torch.nn as nn\n",
        "import torch.optim as optim\n",
        "\n",
        "class ComplexNN(nn.Module):\n",
        "    def __init__(self, input_size, hidden_size1, hidden_size2, hidden_size3, num_classes):\n",
        "        super(ComplexNN, self).__init__()\n",
        "        self.hidden1 = nn.Linear(input_size, hidden_size1)\n",
        "        self.hidden2 = nn.Linear(hidden_size1, hidden_size2)\n",
        "        self.hidden3 = nn.Linear(hidden_size2, hidden_size3)\n",
        "        self.relu = nn.ReLU()\n",
        "        self.output = nn.Linear(hidden_size3, num_classes)\n",
        "\n",
        "    def forward(self, x):\n",
        "        out = self.hidden1(x)\n",
        "        out = self.relu(out)\n",
        "        out = self.hidden2(out)\n",
        "        out = self.relu(out)\n",
        "        out = self.hidden3(out)\n",
        "        out = self.relu(out)\n",
        "        out = self.output(out)\n",
        "        return out\n",
        "\n",
        "input_size = X_train_processed.shape[1]\n",
        "hidden_size1 = 128\n",
        "hidden_size2 = 64\n",
        "hidden_size3 = 32\n",
        "num_classes = len(np.unique(y_train_encoded))\n",
        "model = ComplexNN(input_size, hidden_size1, hidden_size2, hidden_size3, num_classes)\n",
        "\n",
        "\n",
        "criterion = nn.CrossEntropyLoss()\n",
        "optimizer = optim.Adam(model.parameters(), lr=0.001)\n",
        "\n",
        "def train_model(model, train_loader, test_loader, criterion, optimizer, num_epochs):\n",
        "    train_losses = []\n",
        "    test_losses = []\n",
        "    for epoch in range(num_epochs):\n",
        "        model.train()\n",
        "        running_loss = 0.0\n",
        "        for features, labels in train_loader:\n",
        "            outputs = model(features)\n",
        "            loss = criterion(outputs, labels)\n",
        "\n",
        "            optimizer.zero_grad()\n",
        "            loss.backward()\n",
        "            optimizer.step()\n",
        "\n",
        "            running_loss += loss.item()\n",
        "\n",
        "        train_loss = running_loss / len(train_loader)\n",
        "        train_losses.append(train_loss)\n",
        "\n",
        "        # Calculate test loss\n",
        "        model.eval()\n",
        "        test_running_loss = 0.0\n",
        "        with torch.no_grad():\n",
        "            for features, labels in test_loader:\n",
        "                outputs = model(features)\n",
        "                loss = criterion(outputs, labels)\n",
        "                test_running_loss += loss.item()\n",
        "\n",
        "        test_loss = test_running_loss / len(test_loader)\n",
        "        test_losses.append(test_loss)\n",
        "\n",
        "        print(f'Epoch [{epoch+1}/{num_epochs}], Train Loss: {train_loss:.4f}, Test Loss: {test_loss:.4f}')\n",
        "\n",
        "    return train_losses, test_losses\n",
        "\n",
        "def evaluate_model(model, dataloader):\n",
        "    model.eval()\n",
        "    correct = 0\n",
        "    total = 0\n",
        "    with torch.no_grad():\n",
        "        for features, labels in dataloader:\n",
        "            outputs = model(features)\n",
        "            _, predicted = torch.max(outputs.data, 1)\n",
        "            total += labels.size(0)\n",
        "            correct += (predicted == labels).sum().item()\n",
        "    accuracy = correct / total\n",
        "    return accuracy\n",
        "num_epochs = 100\n",
        "train_losses, test_losses = train_model(model, train_dataloader, test_dataloader, criterion, optimizer, num_epochs)\n",
        "\n",
        "train_accuracy = evaluate_model(model, train_dataloader)\n",
        "test_accuracy = evaluate_model(model, test_dataloader)\n",
        "\n",
        "print(f'Accuracy of the model on the training set: {train_accuracy * 100:.2f}%')\n",
        "print(f'Accuracy of the model on the test set: {test_accuracy * 100:.2f}%')\n",
        "\n",
        "import matplotlib.pyplot as plt\n",
        "\n",
        "plt.plot(train_losses, label='Train Loss')\n",
        "plt.plot(test_losses, label='Test Loss')\n",
        "plt.xlabel('Epoch')\n",
        "plt.ylabel('Loss')\n",
        "plt.legend()\n",
        "plt.title('Learning Curve')\n",
        "plt.show()\n"
      ],
      "metadata": {
        "colab": {
          "base_uri": "https://localhost:8080/",
          "height": 1000
        },
        "id": "OZmI5lUO5uAa",
        "outputId": "3770c957-3f6a-40b6-bceb-377485c84280"
      },
      "execution_count": 61,
      "outputs": [
        {
          "output_type": "stream",
          "name": "stdout",
          "text": [
            "Epoch [1/100], Train Loss: 1.0691, Test Loss: 1.0534\n",
            "Epoch [2/100], Train Loss: 1.0285, Test Loss: 1.0196\n",
            "Epoch [3/100], Train Loss: 1.0095, Test Loss: 0.9755\n",
            "Epoch [4/100], Train Loss: 0.9468, Test Loss: 0.9204\n",
            "Epoch [5/100], Train Loss: 0.8879, Test Loss: 0.8408\n",
            "Epoch [6/100], Train Loss: 0.8208, Test Loss: 0.7435\n",
            "Epoch [7/100], Train Loss: 0.7817, Test Loss: 0.6565\n",
            "Epoch [8/100], Train Loss: 0.5989, Test Loss: 0.5713\n",
            "Epoch [9/100], Train Loss: 0.4807, Test Loss: 0.5390\n",
            "Epoch [10/100], Train Loss: 0.4198, Test Loss: 0.5080\n",
            "Epoch [11/100], Train Loss: 0.3687, Test Loss: 0.5590\n",
            "Epoch [12/100], Train Loss: 0.4886, Test Loss: 0.5580\n",
            "Epoch [13/100], Train Loss: 0.4795, Test Loss: 0.5616\n",
            "Epoch [14/100], Train Loss: 0.4444, Test Loss: 0.5166\n",
            "Epoch [15/100], Train Loss: 0.2995, Test Loss: 0.5218\n",
            "Epoch [16/100], Train Loss: 0.2562, Test Loss: 0.4961\n",
            "Epoch [17/100], Train Loss: 0.2728, Test Loss: 0.5210\n",
            "Epoch [18/100], Train Loss: 0.2405, Test Loss: 0.4782\n",
            "Epoch [19/100], Train Loss: 0.2220, Test Loss: 0.5166\n",
            "Epoch [20/100], Train Loss: 0.3612, Test Loss: 0.5285\n",
            "Epoch [21/100], Train Loss: 0.2098, Test Loss: 0.5383\n",
            "Epoch [22/100], Train Loss: 0.2237, Test Loss: 0.5371\n",
            "Epoch [23/100], Train Loss: 0.2178, Test Loss: 0.5172\n",
            "Epoch [24/100], Train Loss: 0.3555, Test Loss: 0.5440\n",
            "Epoch [25/100], Train Loss: 0.3038, Test Loss: 0.5113\n",
            "Epoch [26/100], Train Loss: 0.2059, Test Loss: 0.5095\n",
            "Epoch [27/100], Train Loss: 0.3042, Test Loss: 0.5012\n",
            "Epoch [28/100], Train Loss: 0.2123, Test Loss: 0.5190\n",
            "Epoch [29/100], Train Loss: 0.2029, Test Loss: 0.5305\n",
            "Epoch [30/100], Train Loss: 0.1958, Test Loss: 0.5551\n",
            "Epoch [31/100], Train Loss: 0.1955, Test Loss: 0.5217\n",
            "Epoch [32/100], Train Loss: 0.2034, Test Loss: 0.5805\n",
            "Epoch [33/100], Train Loss: 0.1914, Test Loss: 0.5764\n",
            "Epoch [34/100], Train Loss: 0.3181, Test Loss: 0.5732\n",
            "Epoch [35/100], Train Loss: 0.1832, Test Loss: 0.5421\n",
            "Epoch [36/100], Train Loss: 0.1867, Test Loss: 0.5605\n",
            "Epoch [37/100], Train Loss: 0.1903, Test Loss: 0.5679\n",
            "Epoch [38/100], Train Loss: 0.3213, Test Loss: 0.5633\n",
            "Epoch [39/100], Train Loss: 0.2057, Test Loss: 0.5436\n",
            "Epoch [40/100], Train Loss: 0.1855, Test Loss: 0.5499\n",
            "Epoch [41/100], Train Loss: 0.2744, Test Loss: 0.5617\n",
            "Epoch [42/100], Train Loss: 0.1808, Test Loss: 0.5338\n",
            "Epoch [43/100], Train Loss: 0.1901, Test Loss: 0.5540\n",
            "Epoch [44/100], Train Loss: 0.1898, Test Loss: 0.5898\n",
            "Epoch [45/100], Train Loss: 0.1796, Test Loss: 0.5886\n",
            "Epoch [46/100], Train Loss: 0.1794, Test Loss: 0.5600\n",
            "Epoch [47/100], Train Loss: 0.1807, Test Loss: 0.5819\n",
            "Epoch [48/100], Train Loss: 0.1819, Test Loss: 0.5939\n",
            "Epoch [49/100], Train Loss: 0.1810, Test Loss: 0.5720\n",
            "Epoch [50/100], Train Loss: 0.3232, Test Loss: 0.6126\n",
            "Epoch [51/100], Train Loss: 0.1775, Test Loss: 0.5858\n",
            "Epoch [52/100], Train Loss: 0.1926, Test Loss: 0.5846\n",
            "Epoch [53/100], Train Loss: 0.2936, Test Loss: 0.5582\n",
            "Epoch [54/100], Train Loss: 0.1782, Test Loss: 0.5513\n",
            "Epoch [55/100], Train Loss: 0.1781, Test Loss: 0.5667\n",
            "Epoch [56/100], Train Loss: 0.2285, Test Loss: 0.5718\n",
            "Epoch [57/100], Train Loss: 0.1790, Test Loss: 0.5839\n",
            "Epoch [58/100], Train Loss: 0.1758, Test Loss: 0.5588\n",
            "Epoch [59/100], Train Loss: 0.1756, Test Loss: 0.5664\n",
            "Epoch [60/100], Train Loss: 0.1810, Test Loss: 0.5862\n",
            "Epoch [61/100], Train Loss: 0.1750, Test Loss: 0.6428\n",
            "Epoch [62/100], Train Loss: 0.1734, Test Loss: 0.5999\n",
            "Epoch [63/100], Train Loss: 0.3024, Test Loss: 0.6198\n",
            "Epoch [64/100], Train Loss: 0.2947, Test Loss: 0.5706\n",
            "Epoch [65/100], Train Loss: 0.1941, Test Loss: 0.5900\n",
            "Epoch [66/100], Train Loss: 0.2933, Test Loss: 0.6562\n",
            "Epoch [67/100], Train Loss: 0.2878, Test Loss: 0.5874\n",
            "Epoch [68/100], Train Loss: 0.1882, Test Loss: 0.5733\n",
            "Epoch [69/100], Train Loss: 0.1751, Test Loss: 0.6075\n",
            "Epoch [70/100], Train Loss: 0.1769, Test Loss: 0.6271\n",
            "Epoch [71/100], Train Loss: 0.2161, Test Loss: 0.6186\n",
            "Epoch [72/100], Train Loss: 0.1929, Test Loss: 0.6967\n",
            "Epoch [73/100], Train Loss: 0.1828, Test Loss: 0.6207\n",
            "Epoch [74/100], Train Loss: 0.3103, Test Loss: 0.5764\n",
            "Epoch [75/100], Train Loss: 0.1712, Test Loss: 0.6148\n",
            "Epoch [76/100], Train Loss: 0.1948, Test Loss: 0.6072\n",
            "Epoch [77/100], Train Loss: 0.2511, Test Loss: 0.6065\n",
            "Epoch [78/100], Train Loss: 0.2519, Test Loss: 0.6000\n",
            "Epoch [79/100], Train Loss: 0.3100, Test Loss: 0.6208\n",
            "Epoch [80/100], Train Loss: 0.1841, Test Loss: 0.6741\n",
            "Epoch [81/100], Train Loss: 0.1987, Test Loss: 0.6543\n",
            "Epoch [82/100], Train Loss: 0.1736, Test Loss: 0.6591\n",
            "Epoch [83/100], Train Loss: 0.1791, Test Loss: 0.6378\n",
            "Epoch [84/100], Train Loss: 0.1771, Test Loss: 0.6166\n",
            "Epoch [85/100], Train Loss: 0.3852, Test Loss: 0.6960\n",
            "Epoch [86/100], Train Loss: 0.1666, Test Loss: 0.6077\n",
            "Epoch [87/100], Train Loss: 0.1796, Test Loss: 0.6372\n",
            "Epoch [88/100], Train Loss: 0.2258, Test Loss: 0.6773\n",
            "Epoch [89/100], Train Loss: 0.1780, Test Loss: 0.6593\n",
            "Epoch [90/100], Train Loss: 0.1723, Test Loss: 0.6491\n",
            "Epoch [91/100], Train Loss: 0.1872, Test Loss: 0.6366\n",
            "Epoch [92/100], Train Loss: 0.4149, Test Loss: 0.6494\n",
            "Epoch [93/100], Train Loss: 0.1744, Test Loss: 0.6872\n",
            "Epoch [94/100], Train Loss: 0.1781, Test Loss: 0.6136\n",
            "Epoch [95/100], Train Loss: 0.1788, Test Loss: 0.5929\n",
            "Epoch [96/100], Train Loss: 0.1668, Test Loss: 0.6299\n",
            "Epoch [97/100], Train Loss: 0.1748, Test Loss: 0.6282\n",
            "Epoch [98/100], Train Loss: 0.3795, Test Loss: 0.6379\n",
            "Epoch [99/100], Train Loss: 0.1791, Test Loss: 0.6170\n",
            "Epoch [100/100], Train Loss: 0.1740, Test Loss: 0.6494\n",
            "Accuracy of the model on the training set: 94.25%\n",
            "Accuracy of the model on the test set: 88.50%\n"
          ]
        },
        {
          "output_type": "display_data",
          "data": {
            "text/plain": [
              "<Figure size 640x480 with 1 Axes>"
            ],
            "image/png": "[encoded data removed]"
          },
          "metadata": {}
        }
      ]
    },
    {
      "cell_type": "code",
      "source": [],
      "metadata": {
        "id": "Crpc335m5uDD"
      },
      "execution_count": null,
      "outputs": []
    },
    {
      "cell_type": "code",
      "source": [],
      "metadata": {
        "id": "-tr1U9Qs5uFo"
      },
      "execution_count": null,
      "outputs": []
    },
    {
      "cell_type": "code",
      "source": [],
      "metadata": {
        "id": "Yq-VhlFT5uIJ"
      },
      "execution_count": null,
      "outputs": []
    },
    {
      "cell_type": "code",
      "source": [],
      "metadata": {
        "id": "OTB0Ts985uLE"
      },
      "execution_count": null,
      "outputs": []
    },
    {
      "cell_type": "code",
      "source": [],
      "metadata": {
        "id": "PQcM5vRc5uN6"
      },
      "execution_count": null,
      "outputs": []
    },
    {
      "cell_type": "code",
      "source": [],
      "metadata": {
        "id": "OIpKvcK55WmB"
      },
      "execution_count": null,
      "outputs": []
    },
    {
      "cell_type": "code",
      "source": [],
      "metadata": {
        "id": "AAbNicK75Won"
      },
      "execution_count": null,
      "outputs": []
    }
  ]
}